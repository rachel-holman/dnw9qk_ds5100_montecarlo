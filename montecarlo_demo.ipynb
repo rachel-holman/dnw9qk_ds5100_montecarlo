{
 "cells": [
  {
   "cell_type": "markdown",
   "id": "f82a8aad-b68c-4e1d-97d3-4fbb3c99a244",
   "metadata": {
    "tags": []
   },
   "source": [
    "# Final Project - Rachel Holman"
   ]
  },
  {
   "cell_type": "markdown",
   "id": "73d8e9ea-4ebb-4385-80e5-4e435046fcd5",
   "metadata": {},
   "source": [
    "# Metadata\n",
    "\n",
    "```yaml\n",
    "Course:  DS 5100\n",
    "Module:  09 Python Packages\n",
    "Topic:   HW Package Booklover\n",
    "Author:  R.C. Alvarado (adapted)\n",
    "Date:    7 July 2023 (revised)\n",
    "```"
   ]
  },
  {
   "cell_type": "markdown",
   "id": "fdf88688-7c06-48ab-b5f6-d4fbc60cf3e0",
   "metadata": {
    "tags": []
   },
   "source": [
    "# Student Info\n",
    "\n",
    "* Name: Rachel Holman\n",
    "* Net UD: dnw9qk\n",
    "* URL of this file in GitHub: "
   ]
  },
  {
   "cell_type": "code",
   "execution_count": null,
   "id": "a0cb8312-c5bd-4453-8078-84a7a552c19b",
   "metadata": {},
   "outputs": [],
   "source": []
  }
 ],
 "metadata": {
  "kernelspec": {
   "display_name": "Python 3 (ipykernel)",
   "language": "python",
   "name": "python3"
  },
  "language_info": {
   "codemirror_mode": {
    "name": "ipython",
    "version": 3
   },
   "file_extension": ".py",
   "mimetype": "text/x-python",
   "name": "python",
   "nbconvert_exporter": "python",
   "pygments_lexer": "ipython3",
   "version": "3.10.11"
  }
 },
 "nbformat": 4,
 "nbformat_minor": 5
}
